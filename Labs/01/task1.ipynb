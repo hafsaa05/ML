{
 "cells": [
  {
   "cell_type": "markdown",
   "id": "7638188d-b867-4f8a-bffa-0d9cc4e43dc3",
   "metadata": {},
   "source": [
    "# Task 1"
   ]
  },
  {
   "cell_type": "markdown",
   "id": "27283356-6970-48f5-97cb-dbb21418020a",
   "metadata": {},
   "source": [
    "### Method 1: Dataset using NumPy Array"
   ]
  },
  {
   "cell_type": "code",
   "execution_count": 3,
   "id": "42263c67-2a66-434c-9a72-c16972a4ce50",
   "metadata": {},
   "outputs": [
    {
     "name": "stdout",
     "output_type": "stream",
     "text": [
      "   test_score  writing_skills  reading_skills  poor_concentration  poor_sleep\n",
      "0          34              47              38                   1           1\n",
      "1          59              65              54                   0           1\n",
      "2          28              32              25                   1           1\n",
      "3          63              69              58                   0           0\n",
      "4          23              27              21                   1           1\n",
      "5          71              74              68                   0           0\n",
      "6          42              36              33                   1           1\n",
      "7          55              52              47                   0           1\n",
      "8          19              25              22                   1           1\n",
      "9          67              72              63                   0           0\n"
     ]
    }
   ],
   "source": [
    "import numpy as np\n",
    "import pandas as pd\n",
    "\n",
    "data = np.array([\n",
    "    [34, 47, 38, 1, 1],\n",
    "    [59, 65, 54, 0, 1],\n",
    "    [28, 32, 25, 1, 1],\n",
    "    [63, 69, 58, 0, 0],\n",
    "    [23, 27, 21, 1, 1],\n",
    "    [71, 74, 68, 0, 0],\n",
    "    [42, 36, 33, 1, 1],\n",
    "    [55, 52, 47, 0, 1],\n",
    "    [19, 25, 22, 1, 1],\n",
    "    [67, 72, 63, 0, 0]\n",
    "])\n",
    "\n",
    "df = pd.DataFrame(\n",
    "    data, \n",
    "    columns=[\"test_score\", \"writing_skills\", \"reading_skills\", \"poor_concentration\", \"poor_sleep\"]\n",
    ")\n",
    "\n",
    "print(df)\n"
   ]
  },
  {
   "cell_type": "markdown",
   "id": "42705fae-0a42-42ea-93d3-3dcaffae1623",
   "metadata": {},
   "source": [
    "### Method 2: Dataset Using `zip` on Attribute Lists"
   ]
  },
  {
   "cell_type": "code",
   "execution_count": 7,
   "id": "5bca8126-821d-4ca7-959c-214b0784a171",
   "metadata": {},
   "outputs": [
    {
     "name": "stdout",
     "output_type": "stream",
     "text": [
      "   test_score  writing_skills  reading_skills  poor_concentration  poor_sleep\n",
      "0          45               3               2                   1           0\n",
      "1          50               2               3                   0           1\n",
      "2          60               4               4                   1           1\n",
      "3          33               1               1                   1           0\n",
      "4          40               3               2                   0           1\n",
      "5          55               5               4                   0           0\n",
      "6          48               2               2                   1           1\n",
      "7          62               4               5                   0           0\n",
      "8          37               1               1                   1           1\n",
      "9          49               3               3                   0           0\n"
     ]
    }
   ],
   "source": [
    "import pandas as pd\n",
    "\n",
    "# Attribute lists\n",
    "test_score = [45, 50, 60, 33, 40, 55, 48, 62, 37, 49]\n",
    "writing_skills = [3, 2, 4, 1, 3, 5, 2, 4, 1, 3]\n",
    "reading_skills = [2, 3, 4, 1, 2, 4, 2, 5, 1, 3]\n",
    "poor_concentration = [1, 0, 1, 1, 0, 0, 1, 0, 1, 0]\n",
    "poor_sleep = [0, 1, 1, 0, 1, 0, 1, 0, 1, 0]\n",
    "\n",
    "data = list(zip(test_score, writing_skills, reading_skills, poor_concentration, poor_sleep))\n",
    "\n",
    "df2 = pd.DataFrame(data, columns=['test_score', 'writing_skills', 'reading_skills', 'poor_concentration', 'poor_sleep'])\n",
    "\n",
    "print(df2)\n"
   ]
  },
  {
   "cell_type": "markdown",
   "id": "49ad35ba-2540-400e-81d7-48d3fdd72517",
   "metadata": {},
   "source": [
    "### Method 3 : Creating DataFrame Using a Loop"
   ]
  },
  {
   "cell_type": "code",
   "execution_count": 6,
   "id": "3ac3941c-43b7-4e82-8eaa-6a524a9f3ba3",
   "metadata": {},
   "outputs": [
    {
     "name": "stdout",
     "output_type": "stream",
     "text": [
      "   test_score  writing_skills  reading_skills  poor_concentration  poor_sleep\n",
      "0          55               1               2                   1           1\n",
      "1          67               2               3                   1           0\n",
      "2          56               1               4                   0           0\n",
      "3          64               4               4                   0           1\n",
      "4          38               1               4                   0           1\n",
      "5          69               1               3                   0           1\n",
      "6          69               4               1                   1           1\n",
      "7          67               3               3                   0           1\n",
      "8          50               2               1                   0           1\n",
      "9          64               2               4                   1           1\n"
     ]
    }
   ],
   "source": [
    "import pandas as pd\n",
    "import random\n",
    "\n",
    "columns = ['test_score', 'writing_skills', 'reading_skills', 'poor_concentration', 'poor_sleep']\n",
    "\n",
    "data_records = []\n",
    "\n",
    "# Generate 10 records using a loop\n",
    "for _ in range(10):\n",
    "    record = [\n",
    "        random.randint(30, 70),        # test_score\n",
    "        random.randint(1, 5),          # writing_skills (scale 1-5)\n",
    "        random.randint(1, 5),          # reading_skills (scale 1-5)\n",
    "        random.choice([0, 1]),         # poor_concentration (0=no, 1=yes)\n",
    "        random.choice([0, 1])          # poor_sleep (0=no, 1=yes)\n",
    "    ]\n",
    "    data_records.append(record)\n",
    "\n",
    "df = pd.DataFrame(data_records, columns=columns)\n",
    "\n",
    "print(df)\n"
   ]
  },
  {
   "cell_type": "code",
   "execution_count": null,
   "id": "89e60612-9dc5-4645-abc1-5c4762b1e6d6",
   "metadata": {},
   "outputs": [],
   "source": []
  }
 ],
 "metadata": {
  "kernelspec": {
   "display_name": "Python 3 (ipykernel)",
   "language": "python",
   "name": "python3"
  },
  "language_info": {
   "codemirror_mode": {
    "name": "ipython",
    "version": 3
   },
   "file_extension": ".py",
   "mimetype": "text/x-python",
   "name": "python",
   "nbconvert_exporter": "python",
   "pygments_lexer": "ipython3",
   "version": "3.12.5"
  }
 },
 "nbformat": 4,
 "nbformat_minor": 5
}
