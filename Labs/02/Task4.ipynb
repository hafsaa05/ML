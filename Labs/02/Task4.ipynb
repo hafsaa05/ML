{
 "cells": [
  {
   "cell_type": "markdown",
   "id": "a1978722-bf13-4d99-aeb8-7e256dd6e430",
   "metadata": {},
   "source": [
    "## Task4:"
   ]
  },
  {
   "cell_type": "code",
   "execution_count": 4,
   "id": "8f38c4e8-09ff-4076-b41a-9cb7a76e0bae",
   "metadata": {},
   "outputs": [
    {
     "name": "stdout",
     "output_type": "stream",
     "text": [
      "Dataset dimensions: (110, 10)\n"
     ]
    },
    {
     "data": {
      "text/html": [
       "<div>\n",
       "<style scoped>\n",
       "    .dataframe tbody tr th:only-of-type {\n",
       "        vertical-align: middle;\n",
       "    }\n",
       "\n",
       "    .dataframe tbody tr th {\n",
       "        vertical-align: top;\n",
       "    }\n",
       "\n",
       "    .dataframe thead th {\n",
       "        text-align: right;\n",
       "    }\n",
       "</style>\n",
       "<table border=\"1\" class=\"dataframe\">\n",
       "  <thead>\n",
       "    <tr style=\"text-align: right;\">\n",
       "      <th></th>\n",
       "      <th>Respondent_Age</th>\n",
       "      <th>User_Gender</th>\n",
       "      <th>Qualification</th>\n",
       "      <th>Study_Hours_Per_Day</th>\n",
       "      <th>Primary_Device</th>\n",
       "      <th>Enjoys_Programming</th>\n",
       "      <th>Preferred_Language</th>\n",
       "      <th>Daily_SocialMedia</th>\n",
       "      <th>Online_Buyer</th>\n",
       "      <th>AI_Career_Interest</th>\n",
       "    </tr>\n",
       "  </thead>\n",
       "  <tbody>\n",
       "    <tr>\n",
       "      <th>0</th>\n",
       "      <td>26</td>\n",
       "      <td>F</td>\n",
       "      <td>Postgraduate</td>\n",
       "      <td>1</td>\n",
       "      <td>Tablet</td>\n",
       "      <td>No</td>\n",
       "      <td>Java</td>\n",
       "      <td>3</td>\n",
       "      <td>Yes</td>\n",
       "      <td>Yes</td>\n",
       "    </tr>\n",
       "    <tr>\n",
       "      <th>1</th>\n",
       "      <td>21</td>\n",
       "      <td>F</td>\n",
       "      <td>Graduate</td>\n",
       "      <td>2</td>\n",
       "      <td>Tablet</td>\n",
       "      <td>No</td>\n",
       "      <td>Java</td>\n",
       "      <td>4</td>\n",
       "      <td>Yes</td>\n",
       "      <td>No</td>\n",
       "    </tr>\n",
       "    <tr>\n",
       "      <th>2</th>\n",
       "      <td>32</td>\n",
       "      <td>M</td>\n",
       "      <td>Intermediate</td>\n",
       "      <td>4</td>\n",
       "      <td>Laptop</td>\n",
       "      <td>Yes</td>\n",
       "      <td>C++</td>\n",
       "      <td>3</td>\n",
       "      <td>No</td>\n",
       "      <td>Yes</td>\n",
       "    </tr>\n",
       "    <tr>\n",
       "      <th>3</th>\n",
       "      <td>17</td>\n",
       "      <td>M</td>\n",
       "      <td>Intermediate</td>\n",
       "      <td>6</td>\n",
       "      <td>Tablet</td>\n",
       "      <td>No</td>\n",
       "      <td>C</td>\n",
       "      <td>0</td>\n",
       "      <td>No</td>\n",
       "      <td>No</td>\n",
       "    </tr>\n",
       "    <tr>\n",
       "      <th>4</th>\n",
       "      <td>34</td>\n",
       "      <td>F</td>\n",
       "      <td>Intermediate</td>\n",
       "      <td>1</td>\n",
       "      <td>Smartphone</td>\n",
       "      <td>Yes</td>\n",
       "      <td>C</td>\n",
       "      <td>4</td>\n",
       "      <td>No</td>\n",
       "      <td>Yes</td>\n",
       "    </tr>\n",
       "  </tbody>\n",
       "</table>\n",
       "</div>"
      ],
      "text/plain": [
       "   Respondent_Age User_Gender Qualification  Study_Hours_Per_Day  \\\n",
       "0              26           F  Postgraduate                    1   \n",
       "1              21           F      Graduate                    2   \n",
       "2              32           M  Intermediate                    4   \n",
       "3              17           M  Intermediate                    6   \n",
       "4              34           F  Intermediate                    1   \n",
       "\n",
       "  Primary_Device Enjoys_Programming Preferred_Language  Daily_SocialMedia  \\\n",
       "0         Tablet                 No               Java                  3   \n",
       "1         Tablet                 No               Java                  4   \n",
       "2         Laptop                Yes                C++                  3   \n",
       "3         Tablet                 No                  C                  0   \n",
       "4     Smartphone                Yes                  C                  4   \n",
       "\n",
       "  Online_Buyer AI_Career_Interest  \n",
       "0          Yes                Yes  \n",
       "1          Yes                 No  \n",
       "2           No                Yes  \n",
       "3           No                 No  \n",
       "4           No                Yes  "
      ]
     },
     "execution_count": 4,
     "metadata": {},
     "output_type": "execute_result"
    }
   ],
   "source": [
    "import pandas as pd\n",
    "import numpy as np\n",
    "import random\n",
    "import matplotlib.pyplot as plt\n",
    "import seaborn as sns\n",
    "\n",
    "np.random.seed(10)\n",
    "random.seed(10)\n",
    "\n",
    "m = 110\n",
    "survey = {\n",
    "    \"Respondent_Age\": np.random.randint(17, 35, m),\n",
    "    \"User_Gender\": np.random.choice([\"M\", \"F\"], m),\n",
    "    \"Qualification\": np.random.choice([\"Intermediate\", \"Graduate\", \"Postgraduate\"], m),\n",
    "    \"Study_Hours_Per_Day\": np.random.randint(1, 9, m),\n",
    "    \"Primary_Device\": np.random.choice([\"Smartphone\", \"Laptop\", \"Tablet\"], m),\n",
    "    \"Enjoys_Programming\": np.random.choice([\"Yes\", \"No\"], m),\n",
    "    \"Preferred_Language\": np.random.choice([\"Python\", \"C\", \"C++\", \"Java\", \"None\"], m),\n",
    "    \"Daily_SocialMedia\": np.random.randint(0, 6, m),\n",
    "    \"Online_Buyer\": np.random.choice([\"Yes\", \"No\"], m),\n",
    "    \"AI_Career_Interest\": np.random.choice([\"Yes\", \"No\"], m)  # target\n",
    "}\n",
    "\n",
    "df = pd.DataFrame(survey)\n",
    "print(\"Dataset dimensions:\", df.shape)\n",
    "df.head()\n"
   ]
  },
  {
   "cell_type": "code",
   "execution_count": 12,
   "id": "3311a3b7-ef87-49ac-aaad-46b3dddf9867",
   "metadata": {},
   "outputs": [
    {
     "name": "stdout",
     "output_type": "stream",
     "text": [
      "        Respondent_Age User_Gender Qualification  Study_Hours_Per_Day  \\\n",
      "count       110.000000         110           110           110.000000   \n",
      "unique             NaN           2             3                  NaN   \n",
      "top                NaN           M  Intermediate                  NaN   \n",
      "freq               NaN          57            38                  NaN   \n",
      "mean         26.709091         NaN           NaN             4.363636   \n",
      "std           5.464389         NaN           NaN             2.372346   \n",
      "min          17.000000         NaN           NaN             1.000000   \n",
      "25%          22.000000         NaN           NaN             2.000000   \n",
      "50%          28.000000         NaN           NaN             4.000000   \n",
      "75%          31.750000         NaN           NaN             6.750000   \n",
      "max          34.000000         NaN           NaN             8.000000   \n",
      "\n",
      "       Primary_Device Enjoys_Programming Preferred_Language  \\\n",
      "count             110                110                110   \n",
      "unique              3                  2                  5   \n",
      "top            Tablet                 No                C++   \n",
      "freq               46                 56                 32   \n",
      "mean              NaN                NaN                NaN   \n",
      "std               NaN                NaN                NaN   \n",
      "min               NaN                NaN                NaN   \n",
      "25%               NaN                NaN                NaN   \n",
      "50%               NaN                NaN                NaN   \n",
      "75%               NaN                NaN                NaN   \n",
      "max               NaN                NaN                NaN   \n",
      "\n",
      "        Daily_SocialMedia Online_Buyer AI_Career_Interest  \n",
      "count          110.000000          110                110  \n",
      "unique                NaN            2                  2  \n",
      "top                   NaN           No                 No  \n",
      "freq                  NaN           56                 57  \n",
      "mean             2.454545          NaN                NaN  \n",
      "std              1.759047          NaN                NaN  \n",
      "min              0.000000          NaN                NaN  \n",
      "25%              1.000000          NaN                NaN  \n",
      "50%              2.000000          NaN                NaN  \n",
      "75%              4.000000          NaN                NaN  \n",
      "max              5.000000          NaN                NaN  \n"
     ]
    },
    {
     "data": {
      "image/png": "[encoded data removed]",
      "text/plain": [
       "<Figure size 640x480 with 1 Axes>"
      ]
     },
     "metadata": {},
     "output_type": "display_data"
    },
    {
     "data": {
      "image/png": "[encoded data removed]",
      "text/plain": [
       "<Figure size 640x480 with 1 Axes>"
      ]
     },
     "metadata": {},
     "output_type": "display_data"
    },
    {
     "data": {
      "image/png": "[encoded data removed]",
      "text/plain": [
       "<Figure size 640x480 with 1 Axes>"
      ]
     },
     "metadata": {},
     "output_type": "display_data"
    },
    {
     "name": "stdout",
     "output_type": "stream",
     "text": [
      "Target counts:\n",
      " AI_Career_Interest\n",
      "No     57\n",
      "Yes    53\n",
      "Name: count, dtype: int64\n"
     ]
    }
   ],
   "source": [
    "print(df.describe(include=\"all\"))\n",
    "\n",
    "sns.countplot(x=\"AI_Career_Interest\", hue=\"AI_Career_Interest\", data=df, palette=\"pastel\", legend=False)\n",
    "plt.title(\"AI Career Interest Count\")\n",
    "plt.show()\n",
    "\n",
    "sns.histplot(df[\"Respondent_Age\"], bins=8, kde=True, color=\"teal\")\n",
    "plt.title(\"Respondent Age Spread\")\n",
    "plt.show()\n",
    "\n",
    "sns.countplot(x=\"User_Gender\", hue=\"AI_Career_Interest\", data=df, palette=\"Set2\")\n",
    "plt.title(\"AI Career Interest by Gender\")\n",
    "plt.show()\n",
    "\n",
    "print(\"Target counts:\\n\", df[\"AI_Career_Interest\"].value_counts())"
   ]
  },
  {
   "cell_type": "code",
   "execution_count": 7,
   "id": "4e327608-5a12-4efa-abb7-8eb5ddf19b1b",
   "metadata": {},
   "outputs": [
    {
     "name": "stdout",
     "output_type": "stream",
     "text": [
      "Nulls before:\n",
      " Respondent_Age         0\n",
      "User_Gender            0\n",
      "Qualification          0\n",
      "Study_Hours_Per_Day    0\n",
      "Primary_Device         0\n",
      "Enjoys_Programming     0\n",
      "Preferred_Language     4\n",
      "Daily_SocialMedia      0\n",
      "Online_Buyer           0\n",
      "AI_Career_Interest     0\n",
      "dtype: int64\n",
      "Nulls after:\n",
      " Respondent_Age         0\n",
      "User_Gender            0\n",
      "Qualification          0\n",
      "Study_Hours_Per_Day    0\n",
      "Primary_Device         0\n",
      "Enjoys_Programming     0\n",
      "Preferred_Language     0\n",
      "Daily_SocialMedia      0\n",
      "Online_Buyer           0\n",
      "AI_Career_Interest     0\n",
      "dtype: int64\n"
     ]
    }
   ],
   "source": [
    "df.loc[random.sample(range(m), 4), \"Preferred_Language\"] = np.nan\n",
    "print(\"Nulls before:\\n\", df.isnull().sum())\n",
    "\n",
    "df[\"Preferred_Language\"] = df[\"Preferred_Language\"].fillna(df[\"Preferred_Language\"].mode()[0])\n",
    "\n",
    "print(\"Nulls after:\\n\", df.isnull().sum())"
   ]
  },
  {
   "cell_type": "code",
   "execution_count": 8,
   "id": "2fa4153f-1677-4323-bd9e-3f439349e9a6",
   "metadata": {},
   "outputs": [
    {
     "name": "stdout",
     "output_type": "stream",
     "text": [
      "Before balancing:\n",
      " AI_Career_Interest\n",
      "No     57\n",
      "Yes    53\n",
      "Name: count, dtype: int64\n",
      "After balancing:\n",
      " AI_Career_Interest\n",
      "No     57\n",
      "Yes    57\n",
      "Name: count, dtype: int64\n"
     ]
    }
   ],
   "source": [
    "from sklearn.utils import resample\n",
    "\n",
    "class_dist = df[\"AI_Career_Interest\"].value_counts()\n",
    "print(\"Before balancing:\\n\", class_dist)\n",
    "\n",
    "major = df[df[\"AI_Career_Interest\"] == class_dist.idxmax()]\n",
    "minor = df[df[\"AI_Career_Interest\"] == class_dist.idxmin()]\n",
    "\n",
    "minor_resampled = resample(minor,\n",
    "                           replace=True,\n",
    "                           n_samples=len(major),\n",
    "                           random_state=10)\n",
    "\n",
    "df_bal = pd.concat([major, minor_resampled])\n",
    "print(\"After balancing:\\n\", df_bal[\"AI_Career_Interest\"].value_counts())\n"
   ]
  },
  {
   "cell_type": "code",
   "execution_count": 9,
   "id": "1f81d5c6-9fee-43d9-a460-b1e467ca9597",
   "metadata": {},
   "outputs": [
    {
     "name": "stdout",
     "output_type": "stream",
     "text": [
      "               Feature  Chi2_Value     p_val\n",
      "3  Study_Hours_Per_Day    3.265306  0.070760\n",
      "5   Enjoys_Programming    1.724138  0.189161\n",
      "7    Daily_SocialMedia    1.680556  0.194851\n",
      "4       Primary_Device    1.495575  0.221353\n",
      "2        Qualification    1.070796  0.300766\n",
      "0       Respondent_Age    0.255875  0.612969\n",
      "6   Preferred_Language    0.236715  0.626589\n",
      "8         Online_Buyer    0.157895  0.691102\n",
      "1          User_Gender    0.064516  0.799495\n"
     ]
    }
   ],
   "source": [
    "from sklearn.feature_selection import chi2\n",
    "from sklearn.preprocessing import LabelEncoder\n",
    "\n",
    "encoded = df_bal.copy()\n",
    "\n",
    "for c in encoded.select_dtypes(include=\"object\").columns:\n",
    "    encoded[c] = LabelEncoder().fit_transform(encoded[c])\n",
    "\n",
    "X = encoded.drop(\"AI_Career_Interest\", axis=1)\n",
    "y = encoded[\"AI_Career_Interest\"]\n",
    "\n",
    "chi_vals, p_vals = chi2(X, y)\n",
    "chi_table = pd.DataFrame({\"Feature\": X.columns,\n",
    "                          \"Chi2_Value\": chi_vals,\n",
    "                          \"p_val\": p_vals})\n",
    "print(chi_table.sort_values(by=\"Chi2_Value\", ascending=False))\n"
   ]
  },
  {
   "cell_type": "code",
   "execution_count": 10,
   "id": "66be76cc-3ccf-4f70-b973-a7e95f873d3e",
   "metadata": {},
   "outputs": [
    {
     "name": "stdout",
     "output_type": "stream",
     "text": [
      "Shape after dummy encoding: (114, 15)\n"
     ]
    }
   ],
   "source": [
    "df_dummy = pd.get_dummies(df_bal, drop_first=True)\n",
    "print(\"Shape after dummy encoding:\", df_dummy.shape)\n"
   ]
  },
  {
   "cell_type": "markdown",
   "id": "de59ee59-a8db-429e-b214-4b53c1ee11c8",
   "metadata": {},
   "source": [
    "### Dummy Encoding drops one category per feature to prevent redundancy,\n",
    "### while One-Hot Encoding keeps all categories → can cause multicollinearity."
   ]
  },
  {
   "cell_type": "code",
   "execution_count": 11,
   "id": "df02f0f8-3aec-4290-b9d9-8fb0055d2b53",
   "metadata": {},
   "outputs": [
    {
     "name": "stdout",
     "output_type": "stream",
     "text": [
      "Duplicate rows before: 29\n",
      "After drop_duplicates: 0\n",
      "After keep=first: 0\n"
     ]
    }
   ],
   "source": [
    "df_dupes = pd.concat([df_bal, df_bal.iloc[:3]])\n",
    "\n",
    "print(\"Duplicate rows before:\", df_dupes.duplicated().sum())\n",
    "\n",
    "df_clean1 = df_dupes.drop_duplicates()\n",
    "print(\"After drop_duplicates:\", df_clean1.duplicated().sum())\n",
    "\n",
    "df_clean2 = df_dupes[~df_dupes.duplicated(keep=\"first\")]\n",
    "print(\"After keep=first:\", df_clean2.duplicated().sum())"
   ]
  },
  {
   "cell_type": "code",
   "execution_count": null,
   "id": "e565091f-2a05-4c2f-9a35-2587e785237a",
   "metadata": {},
   "outputs": [],
   "source": []
  }
 ],
 "metadata": {
  "kernelspec": {
   "display_name": "Python 3 (ipykernel)",
   "language": "python",
   "name": "python3"
  },
  "language_info": {
   "codemirror_mode": {
    "name": "ipython",
    "version": 3
   },
   "file_extension": ".py",
   "mimetype": "text/x-python",
   "name": "python",
   "nbconvert_exporter": "python",
   "pygments_lexer": "ipython3",
   "version": "3.12.5"
  }
 },
 "nbformat": 4,
 "nbformat_minor": 5
}
